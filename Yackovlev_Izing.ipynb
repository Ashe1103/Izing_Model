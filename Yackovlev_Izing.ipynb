{
  "cells": [
    {
      "cell_type": "code",
      "execution_count": null,
      "id": "89fae31f-8a91-47ab-b6aa-a612f63fcf39",
      "metadata": {
        "id": "89fae31f-8a91-47ab-b6aa-a612f63fcf39"
      },
      "outputs": [],
      "source": [
        "import numpy as np\n",
        "import matplotlib.pyplot as plt\n",
        "import time\n",
        "from numba import njit, prange\n",
        "from tqdm import trange, tqdm"
      ]
    },
    {
      "cell_type": "code",
      "execution_count": null,
      "id": "de938bab-83cd-4e71-a588-63bf543972b2",
      "metadata": {
        "id": "de938bab-83cd-4e71-a588-63bf543972b2"
      },
      "outputs": [],
      "source": [
        "Lx = np.arange(2, 9, 1)\n",
        "Kt = np.arange(1.0, 5.0, 0.1)\n",
        "Ly = 4\n",
        "J = 1"
      ]
    },
    {
      "cell_type": "code",
      "execution_count": null,
      "id": "9883d2d0-4c14-4722-8686-34a16c5b4592",
      "metadata": {
        "id": "9883d2d0-4c14-4722-8686-34a16c5b4592"
      },
      "outputs": [],
      "source": [
        "@njit\n",
        "def return_spins_with_bitmask(k: int, Lx: int, Ly: int) -> np.ndarray:\n",
        "    \"\"\"\n",
        "    Функция для генерации конфигурации спинов с помощью преобразования некоторого\n",
        "    целого числа x в массив состоящий из чисел -1 и 1.\n",
        "    Данное преобразование проводится с помощью бинарной операции \"побитовое и\" &.\n",
        "    Мы переберем все возможные конфигурации спинов для заданных размеров, учитывая что\n",
        "    функция энергия четная.\n",
        "\n",
        "    Параметры\n",
        "    ----------\n",
        "    k - число, из которого мы делаем массив.\n",
        "    Lx - длина решетки по оси x.\n",
        "    Ly - длина решетки по оси y.\n",
        "\n",
        "    Возвращаемое значение\n",
        "    ---------------------\n",
        "    Массив размера спинов Lx * Ly спинов.\n",
        "    \"\"\"\n",
        "    bit_mask = np.int64(k)\n",
        "    spins = np.empty((Lx, Ly), dtype=np.int8)\n",
        "    for i in range(Lx):\n",
        "        for j in range(Ly):\n",
        "            spins[i][j] = (bit_mask & 1) * 2 - 1\n",
        "            bit_mask= bit_mask >> 1\n",
        "    return spins\n",
        "\n",
        "\n",
        "@njit(parallel = True)\n",
        "def find_mean_energy(T: int, Lx: int, Ly: int) -> float:\n",
        "\n",
        "    \"\"\"\n",
        "    Функция для расчета средней нормированной энергии при зафиксированном Lx и зафиксированной температуре T.\n",
        "\n",
        "    Параментры\n",
        "    ----------\n",
        "    T - температура.\n",
        "    Lx - Длина решетки по оси x.\n",
        "    Ly - длина решетки по оси y.\n",
        "\n",
        "\n",
        "    Возвращаемое значение\n",
        "    ---------------------\n",
        "    Возвращает значение нормированной энергии.\n",
        "    \"\"\"\n",
        "    N = Lx * Ly\n",
        "    Mean_Energy = 0\n",
        "    Prob_Sum = 0\n",
        "    for k in prange(2**N):\n",
        "        Energy = 0\n",
        "        spins = return_spins_with_bitmask(k, Lx, Ly)\n",
        "        for x in range(-1, Lx - 1):\n",
        "            for y in range(-1, Ly - 1):\n",
        "                Energy -= spins[x, y] * (spins[x, y + 1] + spins[x + 1, y]) * J\n",
        "        tmp_probability = np.exp(- Energy / T)\n",
        "        Mean_Energy += Energy * tmp_probability\n",
        "        Prob_Sum += tmp_probability\n",
        "    Mean_Energy /= Prob_Sum * N\n",
        "    return Mean_Energy\n",
        "\n",
        "\n",
        "def Izing(Lx: int, Ly: int, Lx_index: int,  Temperature_array: np.array, Energy_array: np.array) -> None:\n",
        "\n",
        "    \"\"\"\n",
        "    Функция для расчета средней нормированной энергии при зафиксированном Lx. Они записываются во внешнюю переменную Energy_array.\n",
        "\n",
        "    Параментры\n",
        "    ----------\n",
        "    Temperature_array - массив температур.\n",
        "    Lx_ - Массив возможных длин решеток по оси x.\n",
        "    Ly - длина решетки по оси y.\n",
        "    Energy_array - матрица нормированных энергий, куда мы записываем среднюю энергию.\n",
        "\n",
        "\n",
        "    Возвращаемое значение\n",
        "    ---------------------\n",
        "    Не возвращает ничего.\n",
        "    \"\"\"\n",
        "\n",
        "    start = time.time()\n",
        "    for T_index in trange(len(Temperature_array)):\n",
        "        T = Temperature_array[T_index]\n",
        "        Energy_array[Lx_index, T_index] = find_mean_energy(T, Lx, Ly)\n",
        "    end = time.time()\n",
        "    print(end - start, 'секунд вычислялось при Lx =', Lx, \".\")\n",
        "\n",
        "\n",
        "def save_data(Energy_Array: np.array) -> None:\n",
        "    \"\"\"\n",
        "    Функция для сохранения данных из матрицы нормированных энергий в массив.\n",
        "\n",
        "    Параментры\n",
        "    ----------\n",
        "    Energy_Array - Массив нормированных энергий.\n",
        "\n",
        "    Возвращаемое значение\n",
        "    ---------------------\n",
        "    Не возвращает ничего.\n",
        "\n",
        "    \"\"\"\n",
        "    np.save('Energy_Array.npy', Energy_Array)\n",
        "\n",
        "\n",
        "def show_plot(Lx_Array: np.array, Temperature_Array:np.array) -> None:\n",
        "    \"\"\"\n",
        "    Функция для вывода графика по полученным заранее данным.\n",
        "\n",
        "    Параментры\n",
        "    ----------\n",
        "    Temperature_Array - массив температур.\n",
        "    Lx_Array - Массив возможных длин решеток по оси x.\n",
        "\n",
        "    Возвращаемое значение\n",
        "    ---------------------\n",
        "    Не возвращает ничего.\n",
        "\n",
        "    \"\"\"\n",
        "    Data = np.load(\"Energy_Array.npy\")\n",
        "    plt.figure(figsize=(10, 10))\n",
        "    plt.pcolormesh(Lx_Array, Temperature_Array, Data.transpose(), cmap=\"inferno\")\n",
        "    plt.colorbar()\n",
        "    plt.title('Карта нормированной средней энергии.')\n",
        "    plt.xlabel(\"Lx\")\n",
        "    plt.ylabel(\"kT\")\n",
        "    plt.show()\n",
        "\n",
        "\n",
        "def main_calculation(Lx_Array: np.array, Ly: int, Kt: np.array) -> None:\n",
        "    \"\"\"\n",
        "    Функция для поэтапного выполнения всей лабороторной работы, а конкретно для:\n",
        "    1) Cоздания массива для нормированных энергий.\n",
        "    2) Проведение расчета для каждого Lx через функцию Izing.\n",
        "    3) Записываем массив нормированных энергий в файл.\n",
        "    4) Рисуем по этому файлу график.\n",
        "\n",
        "    Параментры\n",
        "    ----------\n",
        "    Kt - массив температур.\n",
        "    Lx_Array - Массив возможных длин решеток по оси x.\n",
        "    Ly - длина решетки по оси y.\n",
        "\n",
        "    Возвращаемое значение\n",
        "    ---------------------\n",
        "    Не возвращает ничего.\n",
        "    \"\"\"\n",
        "    Energy_Array = np.zeros((len(Lx_Array), len(Kt)))\n",
        "    for i in range(len(Lx_Array)):\n",
        "        Izing(Lx[i], Ly, i, Kt, Energy_Array)\n",
        "    save_data(Energy_Array)\n",
        "    show_plot(Lx_Array, Kt)\n",
        ""
      ]
    },
    {
      "cell_type": "code",
      "execution_count": null,
      "id": "04f0f877-0ddd-4a84-9d53-a095f44071bc",
      "metadata": {
        "id": "04f0f877-0ddd-4a84-9d53-a095f44071bc",
        "outputId": "eede4218-d9ef-4ea2-a629-e47adc9f36cd"
      },
      "outputs": [
        {
          "name": "stderr",
          "output_type": "stream",
          "text": [
            "100%|█████████████████████████████████████████████████████████████████████████████████████████████████████████████████████████████████████████████████████████████████████████████| 40/40 [00:01<00:00, 20.44it/s]\n"
          ]
        },
        {
          "name": "stdout",
          "output_type": "stream",
          "text": [
            "1.97332763671875 секунд вычислялось при Lx = 2 .\n"
          ]
        },
        {
          "name": "stderr",
          "output_type": "stream",
          "text": [
            "100%|███████████████████████████████████████████████████████████████████████████████████████████████████████████████████████████████████████████████████████████████████████████| 40/40 [00:00<00:00, 7998.67it/s]\n"
          ]
        },
        {
          "name": "stdout",
          "output_type": "stream",
          "text": [
            "0.008002281188964844 секунд вычислялось при Lx = 3 .\n"
          ]
        },
        {
          "name": "stderr",
          "output_type": "stream",
          "text": [
            "100%|████████████████████████████████████████████████████████████████████████████████████████████████████████████████████████████████████████████████████████████████████████████| 40/40 [00:00<00:00, 615.27it/s]\n"
          ]
        },
        {
          "name": "stdout",
          "output_type": "stream",
          "text": [
            "0.06801390647888184 секунд вычислялось при Lx = 4 .\n"
          ]
        },
        {
          "name": "stderr",
          "output_type": "stream",
          "text": [
            "100%|█████████████████████████████████████████████████████████████████████████████████████████████████████████████████████████████████████████████████████████████████████████████| 40/40 [00:00<00:00, 50.95it/s]\n"
          ]
        },
        {
          "name": "stdout",
          "output_type": "stream",
          "text": [
            "0.7870199680328369 секунд вычислялось при Lx = 5 .\n"
          ]
        },
        {
          "name": "stderr",
          "output_type": "stream",
          "text": [
            "100%|█████████████████████████████████████████████████████████████████████████████████████████████████████████████████████████████████████████████████████████████████████████████| 40/40 [00:13<00:00,  2.91it/s]\n"
          ]
        },
        {
          "name": "stdout",
          "output_type": "stream",
          "text": [
            "13.735156059265137 секунд вычислялось при Lx = 6 .\n"
          ]
        },
        {
          "name": "stderr",
          "output_type": "stream",
          "text": [
            "100%|█████████████████████████████████████████████████████████████████████████████████████████████████████████████████████████████████████████████████████████████████████████████| 40/40 [04:01<00:00,  6.04s/it]\n"
          ]
        },
        {
          "name": "stdout",
          "output_type": "stream",
          "text": [
            "241.5053255558014 секунд вычислялось при Lx = 7 .\n"
          ]
        },
        {
          "name": "stderr",
          "output_type": "stream",
          "text": [
            "100%|██████████████████████████████████████████████████████████████████████████████████████████████████████████████████████████████████████████████████████████████████████████| 40/40 [1:10:17<00:00, 105.44s/it]\n"
          ]
        },
        {
          "name": "stdout",
          "output_type": "stream",
          "text": [
            "4217.479179143906 секунд вычислялось при Lx = 8 .\n"
          ]
        },
        {
          "data": {
            "image/png": "[encoded data removed]",
            "text/plain": [
              "<Figure size 1000x1000 with 2 Axes>"
            ]
          },
          "metadata": {},
          "output_type": "display_data"
        }
      ],
      "source": [
        "main_calculation(Lx, Ly, Kt)"
      ]
    },
    {
      "cell_type": "code",
      "execution_count": null,
      "id": "47189d53-99d5-465f-b113-b27d1b3f14e8",
      "metadata": {
        "id": "47189d53-99d5-465f-b113-b27d1b3f14e8"
      },
      "outputs": [],
      "source": []
    }
  ],
  "metadata": {
    "kernelspec": {
      "display_name": "Python 3 (ipykernel)",
      "language": "python",
      "name": "python3"
    },
    "language_info": {
      "codemirror_mode": {
        "name": "ipython",
        "version": 3
      },
      "file_extension": ".py",
      "mimetype": "text/x-python",
      "name": "python",
      "nbconvert_exporter": "python",
      "pygments_lexer": "ipython3",
      "version": "3.10.0"
    },
    "colab": {
      "provenance": []
    }
  },
  "nbformat": 4,
  "nbformat_minor": 5
}